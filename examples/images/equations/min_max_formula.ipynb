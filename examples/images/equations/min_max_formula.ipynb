Min-max normalization is defined as:

$$
x' = \frac{x - \min(x)}{\max(x) - \min(x)}
$$
